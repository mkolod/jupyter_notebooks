{
 "cells": [
  {
   "cell_type": "markdown",
   "metadata": {},
   "source": [
    "# Linear Regression via SGD, QR, SVD, LU, etc."
   ]
  },
  {
   "cell_type": "markdown",
   "metadata": {},
   "source": [
    "## Imports"
   ]
  },
  {
   "cell_type": "code",
   "execution_count": 148,
   "metadata": {
    "collapsed": false
   },
   "outputs": [],
   "source": [
    "%matplotlib inline\n",
    "\n",
    "from IPython.display import display, Math, Latex\n",
    "import matplotlib.pyplot as plt\n",
    "import numpy as np\n",
    "from numpy import dot\n",
    "from numpy.linalg import inv\n",
    "import scipy\n",
    "from scipy.stats import t\n",
    "from sklearn import datasets, linear_model\n",
    "from sklearn.cross_validation import train_test_split"
   ]
  },
  {
   "cell_type": "markdown",
   "metadata": {},
   "source": [
    "## Boston Real Estate Prices"
   ]
  },
  {
   "cell_type": "markdown",
   "metadata": {},
   "source": [
    "### Features"
   ]
  },
  {
   "cell_type": "code",
   "execution_count": 33,
   "metadata": {
    "collapsed": false
   },
   "outputs": [
    {
     "name": "stdout",
     "output_type": "stream",
     "text": [
      "Boston House Prices dataset\n",
      "\n",
      "Notes\n",
      "------\n",
      "Data Set Characteristics:  \n",
      "\n",
      "    :Number of Instances: 506 \n",
      "\n",
      "    :Number of Attributes: 13 numeric/categorical predictive\n",
      "    \n",
      "    :Median Value (attribute 14) is usually the target\n",
      "\n",
      "    :Attribute Information (in order):\n",
      "        - CRIM     per capita crime rate by town\n",
      "        - ZN       proportion of residential land zoned for lots over 25,000 sq.ft.\n",
      "        - INDUS    proportion of non-retail business acres per town\n",
      "        - CHAS     Charles River dummy variable (= 1 if tract bounds river; 0 otherwise)\n",
      "        - NOX      nitric oxides concentration (parts per 10 million)\n",
      "        - RM       average number of rooms per dwelling\n",
      "        - AGE      proportion of owner-occupied units built prior to 1940\n",
      "        - DIS      weighted distances to five Boston employment centres\n",
      "        - RAD      index of accessibility to radial highways\n",
      "        - TAX      full-value property-tax rate per $10,000\n",
      "        - PTRATIO  pupil-teacher ratio by town\n",
      "        - B        1000(Bk - 0.63)^2 where Bk is the proportion of blacks by town\n",
      "        - LSTAT    % lower status of the population\n",
      "        - MEDV     Median value of owner-occupied homes in $1000's\n",
      "\n",
      "    :Missing Attribute Values: None\n",
      "\n",
      "    :Creator: Harrison, D. and Rubinfeld, D.L.\n",
      "\n",
      "This is a copy of UCI ML housing dataset.\n",
      "http://archive.ics.uci.edu/ml/datasets/Housing\n",
      "\n",
      "\n",
      "This dataset was taken from the StatLib library which is maintained at Carnegie Mellon University.\n",
      "\n",
      "The Boston house-price data of Harrison, D. and Rubinfeld, D.L. 'Hedonic\n",
      "prices and the demand for clean air', J. Environ. Economics & Management,\n",
      "vol.5, 81-102, 1978.   Used in Belsley, Kuh & Welsch, 'Regression diagnostics\n",
      "...', Wiley, 1980.   N.B. Various transformations are used in the table on\n",
      "pages 244-261 of the latter.\n",
      "\n",
      "The Boston house-price data has been used in many machine learning papers that address regression\n",
      "problems.   \n",
      "     \n",
      "**References**\n",
      "\n",
      "   - Belsley, Kuh & Welsch, 'Regression diagnostics: Identifying Influential Data and Sources of Collinearity', Wiley, 1980. 244-261.\n",
      "   - Quinlan,R. (1993). Combining Instance-Based and Model-Based Learning. In Proceedings on the Tenth International Conference of Machine Learning, 236-243, University of Massachusetts, Amherst. Morgan Kaufmann.\n",
      "   - many more! (see http://archive.ics.uci.edu/ml/datasets/Housing)\n",
      "\n"
     ]
    }
   ],
   "source": [
    "boston = datasets.load_boston()\n",
    "print(boston.DESCR)"
   ]
  },
  {
   "cell_type": "markdown",
   "metadata": {},
   "source": [
    "### Exploratory Data Analysis"
   ]
  },
  {
   "cell_type": "markdown",
   "metadata": {},
   "source": [
    "#### Effect of % of lower-status population on price"
   ]
  },
  {
   "cell_type": "code",
   "execution_count": 1072,
   "metadata": {
    "collapsed": false,
    "scrolled": true
   },
   "outputs": [
    {
     "data": {
      "text/plain": [
       "<matplotlib.text.Text at 0x115efaa10>"
      ]
     },
     "execution_count": 1072,
     "metadata": {},
     "output_type": "execute_result"
    },
    {
     "data": {
      "image/png": "[encoded data removed]",
      "text/plain": [
       "<matplotlib.figure.Figure at 0x11615c950>"
      ]
     },
     "metadata": {},
     "output_type": "display_data"
    }
   ],
   "source": [
    "plt.scatter(boston.data[:, np.where(boston.feature_names == 'LSTAT')], boston.target)\n",
    "plt.title('% lower-status population vs. price', color='black')\n",
    "plt.xlabel('LSTAT', {'fontsize':'large'})\n",
    "plt.ylabel('PRICE', {'fontsize':'large'})\n"
   ]
  },
  {
   "cell_type": "markdown",
   "metadata": {},
   "source": [
    "#### Effect of number of rooms on price"
   ]
  },
  {
   "cell_type": "code",
   "execution_count": 1073,
   "metadata": {
    "collapsed": false
   },
   "outputs": [
    {
     "data": {
      "text/plain": [
       "<matplotlib.text.Text at 0x1162299d0>"
      ]
     },
     "execution_count": 1073,
     "metadata": {},
     "output_type": "execute_result"
    },
    {
     "data": {
      "image/png": "[encoded data removed]",
      "text/plain": [
       "<matplotlib.figure.Figure at 0x1162e7350>"
      ]
     },
     "metadata": {},
     "output_type": "display_data"
    }
   ],
   "source": [
    "plt.scatter(boston.data[:, np.where(boston.feature_names == 'RM')], boston.target)\n",
    "plt.title('avg. number of rooms vs. price', color='black')\n",
    "plt.xlabel('RM', {'fontsize':'large'})\n",
    "plt.ylabel('PRICE', {'fontsize':'large'})"
   ]
  },
  {
   "cell_type": "markdown",
   "metadata": {},
   "source": [
    "#### Relationship between % lower-status and avg. number of rooms"
   ]
  },
  {
   "cell_type": "code",
   "execution_count": 1185,
   "metadata": {
    "collapsed": false
   },
   "outputs": [
    {
     "data": {
      "text/plain": [
       "<matplotlib.text.Text at 0x11afc2b50>"
      ]
     },
     "execution_count": 1185,
     "metadata": {},
     "output_type": "execute_result"
    },
    {
     "data": {
      "image/png": "[encoded data removed]",
      "text/plain": [
       "<matplotlib.figure.Figure at 0x11b309b50>"
      ]
     },
     "metadata": {},
     "output_type": "display_data"
    }
   ],
   "source": [
    "plt.scatter(boston.data[:, np.where(boston.feature_names == 'LSTAT')],\\\n",
    "            boston.data[:, np.where(boston.feature_names == 'RM')])\n",
    "plt.title('% lower-status vs. avg. number of rooms', color='black')\n",
    "plt.xlabel('LSTAT', {'fontsize':'large'})\n",
    "plt.ylabel('RM', {'fontsize':'large'})"
   ]
  },
  {
   "cell_type": "markdown",
   "metadata": {},
   "source": [
    "## Linear regression model"
   ]
  },
  {
   "cell_type": "markdown",
   "metadata": {},
   "source": [
    "### Training / Test Set Split"
   ]
  },
  {
   "cell_type": "code",
   "execution_count": 7,
   "metadata": {
    "collapsed": true
   },
   "outputs": [],
   "source": [
    "X_train, X_test, y_train, y_test = \\\n",
    "train_test_split(boston.data, boston.target, test_size=0.3, random_state=42)"
   ]
  },
  {
   "cell_type": "markdown",
   "metadata": {},
   "source": [
    "### Model Training"
   ]
  },
  {
   "cell_type": "code",
   "execution_count": 77,
   "metadata": {
    "collapsed": false
   },
   "outputs": [
    {
     "name": "stdout",
     "output_type": "stream",
     "text": [
      "\n",
      "Training set R^2 : 0.744\n",
      "Test set R^2     : 0.711\n",
      "\n",
      "Model weights:\n",
      "\n",
      "Intercept :   31.682\n",
      "CRIM      :   -0.133\n",
      "ZN        :    0.036\n",
      "INDUS     :    0.050\n",
      "CHAS      :    3.121\n",
      "NOX       :  -15.470\n",
      "RM        :    4.049\n",
      "AGE       :   -0.011\n",
      "DIS       :   -1.387\n",
      "RAD       :    0.242\n",
      "TAX       :   -0.009\n",
      "PTRATIO   :   -0.912\n",
      "B         :    0.012\n",
      "LSTAT     :   -0.548\n",
      "\n",
      "\n",
      "Feature description:\n",
      "\n",
      "CRIM     per capita crime rate by town\n",
      "ZN       proportion of residential land zoned for lots over 25,000 sq.ft.\n",
      "INDUS    proportion of non-retail business acres per town\n",
      "CHAS     Charles River dummy variable (= 1 if tract bounds river; 0 otherwise)\n",
      "NOX      nitric oxides concentration (parts per 10 million)\n",
      "RM       average number of rooms per dwelling\n",
      "AGE      proportion of owner-occupied units built prior to 1940\n",
      "DIS      weighted distances to five Boston employment centres\n",
      "RAD      index of accessibility to radial highways\n",
      "TAX      full-value property-tax rate per $10,000\n",
      "PTRATIO  pupil-teacher ratio by town\n",
      "B        1000(Bk - 0.63)^2 where Bk is the proportion of blacks by town\n",
      "LSTAT    % lower status of the population\n",
      "MEDV     Median value of owner-occupied homes in $1000's\n",
      "\n"
     ]
    }
   ],
   "source": [
    "bos_regr = linear_model.LinearRegression(fit_intercept=True, normalize=True)\n",
    "\n",
    "bos_regr.fit(X_train, y_train)\n",
    "\n",
    "print(\"\\n%-17s: %.3f\" % (\"Training set R^2\", bos_regr.score(X_train, y_train)))\n",
    "print(\"%-17s: %.3f\" % (\"Test set R^2\", bos_regr.score(X_test, y_test)))\n",
    "\n",
    "print(\"\\nModel weights:\\n\")\n",
    "print(\"%-10s: %8.3f\" % (\"Intercept\", bos_regr.intercept_))\n",
    "for i in range(len(bos_regr.coef_)):\n",
    "    print(\"%-10s: %8.3f\" % (boston.feature_names[i], bos_regr.coef_[i]))\n",
    "    \n",
    "print(\"\"\"\n",
    "\n",
    "Feature description:\n",
    "\n",
    "CRIM     per capita crime rate by town\n",
    "ZN       proportion of residential land zoned for lots over 25,000 sq.ft.\n",
    "INDUS    proportion of non-retail business acres per town\n",
    "CHAS     Charles River dummy variable (= 1 if tract bounds river; 0 otherwise)\n",
    "NOX      nitric oxides concentration (parts per 10 million)\n",
    "RM       average number of rooms per dwelling\n",
    "AGE      proportion of owner-occupied units built prior to 1940\n",
    "DIS      weighted distances to five Boston employment centres\n",
    "RAD      index of accessibility to radial highways\n",
    "TAX      full-value property-tax rate per $10,000\n",
    "PTRATIO  pupil-teacher ratio by town\n",
    "B        1000(Bk - 0.63)^2 where Bk is the proportion of blacks by town\n",
    "LSTAT    % lower status of the population\n",
    "MEDV     Median value of owner-occupied homes in $1000's\n",
    "\"\"\")    "
   ]
  },
  {
   "cell_type": "markdown",
   "metadata": {},
   "source": [
    "## Completely Optional - Manual Weight Computation"
   ]
  },
  {
   "cell_type": "code",
   "execution_count": 93,
   "metadata": {
    "collapsed": false
   },
   "outputs": [],
   "source": [
    "diabetes = datasets.load_diabetes()\n",
    "\n",
    "X_no_int = np.array(diabetes.data[:, 0])\n",
    "shape = (diabetes.data.shape[0], 1)\n",
    "X = np.concatenate((np.ones(shape), np.array(diabetes.data[:, 0]).reshape(shape)), axis = 1)\n",
    "y = diabetes.target"
   ]
  },
  {
   "cell_type": "markdown",
   "metadata": {},
   "source": [
    "### Scikit-learn result for comparison"
   ]
  },
  {
   "cell_type": "code",
   "execution_count": 105,
   "metadata": {
    "collapsed": false
   },
   "outputs": [
    {
     "data": {
      "text/plain": [
       "[152.13348416289605, 304.18307452829475]"
      ]
     },
     "execution_count": 105,
     "metadata": {},
     "output_type": "execute_result"
    }
   ],
   "source": [
    "diab_regr = linear_model.LinearRegression(fit_intercept=True)\n",
    "diab_regr.fit(X_no_int.reshape(shape), y)\n",
    "[diab_regr.intercept_, diab_regr.coef_[0]]"
   ]
  },
  {
   "cell_type": "markdown",
   "metadata": {},
   "source": [
    "### 1) \"Linear algebra 101\" method: $(X^TX)^{-1}X^TY$"
   ]
  },
  {
   "cell_type": "code",
   "execution_count": 106,
   "metadata": {
    "collapsed": false,
    "scrolled": false
   },
   "outputs": [
    {
     "name": "stdout",
     "output_type": "stream",
     "text": [
      "[ 152.13348416  304.18307453]\n"
     ]
    }
   ],
   "source": [
    "manual_weights = dot(dot(inv(dot(X.T, X)), X.T), y)\n",
    "print(manual_weights)"
   ]
  },
  {
   "cell_type": "markdown",
   "metadata": {},
   "source": [
    "### 2) Via QR factorization"
   ]
  },
  {
   "cell_type": "code",
   "execution_count": 107,
   "metadata": {
    "collapsed": false
   },
   "outputs": [
    {
     "data": {
      "text/plain": [
       "array([ 152.13348416,  304.18307453])"
      ]
     },
     "execution_count": 107,
     "metadata": {},
     "output_type": "execute_result"
    }
   ],
   "source": [
    "(q, r) = np.linalg.qr(X)\n",
    "\n",
    "dot(dot(inv(dot(r.T, r)), r.T), dot(q.T, y))"
   ]
  },
  {
   "cell_type": "markdown",
   "metadata": {},
   "source": [
    "### 3) Via Cholesky factorization"
   ]
  },
  {
   "cell_type": "code",
   "execution_count": 109,
   "metadata": {
    "collapsed": false
   },
   "outputs": [
    {
     "data": {
      "text/plain": [
       "array([ 152.13348416,  304.18307453])"
      ]
     },
     "execution_count": 109,
     "metadata": {},
     "output_type": "execute_result"
    }
   ],
   "source": [
    "L = np.linalg.cholesky(dot(X.T, X))\n",
    "\n",
    "dot(dot(inv(dot(L, L.T)), X.T), y)\n"
   ]
  },
  {
   "cell_type": "markdown",
   "metadata": {},
   "source": [
    "### 4) Via SVD"
   ]
  },
  {
   "cell_type": "code",
   "execution_count": 110,
   "metadata": {
    "collapsed": false
   },
   "outputs": [
    {
     "data": {
      "text/plain": [
       "array([ 152.13348416,  304.18307453])"
      ]
     },
     "execution_count": 110,
     "metadata": {},
     "output_type": "execute_result"
    }
   ],
   "source": [
    "U, s, V = np.linalg.svd(X)\n",
    "dot(dot(dot(V, np.diag(np.divide(np.ones(2), s))), U[:, 0:X.shape[1]].T), y)"
   ]
  },
  {
   "cell_type": "markdown",
   "metadata": {},
   "source": [
    "### 5) Via LU factorization"
   ]
  },
  {
   "cell_type": "code",
   "execution_count": 147,
   "metadata": {
    "collapsed": false
   },
   "outputs": [
    {
     "data": {
      "text/plain": [
       "array([ 152.13348416,  304.18307453])"
      ]
     },
     "execution_count": 147,
     "metadata": {},
     "output_type": "execute_result"
    }
   ],
   "source": [
    "lu = scipy.linalg.lu(X, permute_l = True)\n",
    "L, U = lu[0], lu[1]\n",
    "dot(dot(dot(inv(dot(U.T, U)), U.T), dot(inv(dot(L.T, L)), L.T)), y)"
   ]
  },
  {
   "cell_type": "markdown",
   "metadata": {},
   "source": [
    "### 6) Via batch gradient descent (with momentum)"
   ]
  },
  {
   "cell_type": "code",
   "execution_count": 122,
   "metadata": {
    "collapsed": false
   },
   "outputs": [
    {
     "data": {
      "text/plain": [
       "array([[ 152.13348416,  304.18307453]])"
      ]
     },
     "execution_count": 122,
     "metadata": {},
     "output_type": "execute_result"
    }
   ],
   "source": [
    "def estimate_lin_reg(X, y, num_iter, alpha, mom_coef):\n",
    "    numEx = X.shape[0]\n",
    "    theta = np.zeros([1, X.shape[1]])\n",
    "    theta_prev = theta\n",
    "    yy = np.reshape(y, [y.shape[0], 1])\n",
    "    for i in range(num_iter):\n",
    "        mom = theta - theta_prev\n",
    "        theta_prev = theta\n",
    "        theta = theta - alpha / numEx * dot(X.T, dot(X, theta.T) - yy).T + mom_coef * mom\n",
    "    return theta\n",
    "\n",
    "estimate_lin_reg(X, y, 1000, 0.9, 0.9)"
   ]
  },
  {
   "cell_type": "markdown",
   "metadata": {},
   "source": [
    "## Extending scikit-learn to compute t-statistics and p-values"
   ]
  },
  {
   "cell_type": "code",
   "execution_count": 143,
   "metadata": {
    "collapsed": false
   },
   "outputs": [],
   "source": [
    "class LinearRegression(linear_model.LinearRegression):\n",
    "    \"\"\"\n",
    "    Extension of scikit-learn's OLS to handle SE/t/p stats.\n",
    "    \"\"\" \n",
    "\n",
    "    def __init__(self, *args, **kwargs):\n",
    "        if not \"fit_intercept\" in kwargs:\n",
    "            kwargs['fit_intercept'] = True\n",
    "        super(LinearRegression, self).__init__(*args, **kwargs)\n",
    "\n",
    "    def fit(self, X, y, n_jobs=1):\n",
    "        self = super(LinearRegression, self).fit(X, y, n_jobs)\n",
    "        augX = np.concatenate((np.ones((X.shape[0], 1)), X), axis = 1)\n",
    "        self.sse = np.sum((self.predict(X) - y) ** 2, axis=0) / float(augX.shape[0] - augX.shape[1])\n",
    "        self.se = np.array([np.sqrt(np.diagonal(self.sse * np.linalg.inv(np.dot(augX.T, augX))))])\n",
    "        self.t = self.coef_ / self.se\n",
    "        self.p = 2 * (1 - t.cdf(np.abs(self.t), y.shape[0] - augX.shape[1]))\n",
    "        return self\n",
    "    \n",
    "    def __repr__(self):\n",
    "        return \"%s(\\n\\tweights = %r\\n\\tse = %r\\n\\tt = %r,\\n\\tp = %r\\n)\"\\\n",
    "        % (self.__class__.__name__, \\\n",
    "          np.insert(self.coef_, 0, np.array(self.intercept_), axis=0),\\\n",
    "          self.se, self.t, self.p)"
   ]
  },
  {
   "cell_type": "code",
   "execution_count": 144,
   "metadata": {
    "collapsed": false
   },
   "outputs": [
    {
     "data": {
      "text/plain": [
       "LinearRegression(\n",
       "\tweights = array([ 152.13348416,  304.18307453])\n",
       "\tse = array([[  3.60572368,  75.80599913]])\n",
       "\tt = array([[ 84.36117183,   4.01265174]]),\n",
       "\tp = array([[  0.00000000e+00,   7.05568615e-05]])\n",
       ")"
      ]
     },
     "execution_count": 144,
     "metadata": {},
     "output_type": "execute_result"
    }
   ],
   "source": [
    "lr = LinearRegression()\n",
    "lr.fit(X_no_int.reshape(shape), y)\n",
    "# lr.intercept_"
   ]
  }
 ],
 "metadata": {
  "kernelspec": {
   "display_name": "Python 2",
   "language": "python",
   "name": "python2"
  },
  "language_info": {
   "codemirror_mode": {
    "name": "ipython",
    "version": 2
   },
   "file_extension": ".py",
   "mimetype": "text/x-python",
   "name": "python",
   "nbconvert_exporter": "python",
   "pygments_lexer": "ipython2",
   "version": "2.7.11"
  }
 },
 "nbformat": 4,
 "nbformat_minor": 0
}
